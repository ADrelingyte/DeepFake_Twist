{
 "cells": [
  {
   "cell_type": "markdown",
   "id": "024b9827",
   "metadata": {},
   "source": [
    "# Objective Evaluations"
   ]
  },
  {
   "cell_type": "markdown",
   "id": "28185658",
   "metadata": {},
   "source": [
    "## MCD Calculations"
   ]
  },
  {
   "cell_type": "code",
   "execution_count": 1,
   "id": "7d336602",
   "metadata": {
    "scrolled": true
   },
   "outputs": [
    {
     "name": "stdout",
     "output_type": "stream",
     "text": [
      "Defaulting to user installation because normal site-packages is not writeable\n",
      "Collecting pymcd\n",
      "  Downloading pymcd-0.2.1-py3-none-any.whl (4.0 kB)\n",
      "Requirement already satisfied: librosa in /home/aine_linux/.local/lib/python3.10/site-packages (from pymcd) (0.9.2)\n",
      "Requirement already satisfied: numpy in /home/aine_linux/.local/lib/python3.10/site-packages (from pymcd) (1.23.5)\n",
      "Requirement already satisfied: pyworld in /home/aine_linux/.local/lib/python3.10/site-packages (from pymcd) (0.3.4)\n",
      "Requirement already satisfied: pysptk in /home/aine_linux/.local/lib/python3.10/site-packages (from pymcd) (0.2.2)\n",
      "Collecting fastdtw (from pymcd)\n",
      "  Downloading fastdtw-0.3.4.tar.gz (133 kB)\n",
      "\u001b[2K     \u001b[90m━━━━━━━━━━━━━━━━━━━━━━━━━━━━━━━━━━━━━\u001b[0m \u001b[32m133.4/133.4 kB\u001b[0m \u001b[31m797.6 kB/s\u001b[0m eta \u001b[36m0:00:00\u001b[0m00:01\u001b[0m00:01\u001b[0m\n",
      "\u001b[?25h  Preparing metadata (setup.py) ... \u001b[?25ldone\n",
      "\u001b[?25hRequirement already satisfied: scipy in /home/aine_linux/.local/lib/python3.10/site-packages (from pymcd) (1.10.1)\n",
      "Requirement already satisfied: audioread>=2.1.9 in /home/aine_linux/.local/lib/python3.10/site-packages (from librosa->pymcd) (3.0.0)\n",
      "Requirement already satisfied: scikit-learn>=0.19.1 in /home/aine_linux/.local/lib/python3.10/site-packages (from librosa->pymcd) (1.2.2)\n",
      "Requirement already satisfied: joblib>=0.14 in /home/aine_linux/.local/lib/python3.10/site-packages (from librosa->pymcd) (1.2.0)\n",
      "Requirement already satisfied: decorator>=4.0.10 in /home/aine_linux/.local/lib/python3.10/site-packages (from librosa->pymcd) (5.1.1)\n",
      "Requirement already satisfied: resampy>=0.2.2 in /home/aine_linux/.local/lib/python3.10/site-packages (from librosa->pymcd) (0.4.2)\n",
      "Requirement already satisfied: numba>=0.45.1 in /home/aine_linux/.local/lib/python3.10/site-packages (from librosa->pymcd) (0.57.0)\n",
      "Requirement already satisfied: soundfile>=0.10.2 in /home/aine_linux/.local/lib/python3.10/site-packages (from librosa->pymcd) (0.12.1)\n",
      "Requirement already satisfied: pooch>=1.0 in /home/aine_linux/.local/lib/python3.10/site-packages (from librosa->pymcd) (1.6.0)\n",
      "Requirement already satisfied: packaging>=20.0 in /home/aine_linux/.local/lib/python3.10/site-packages (from librosa->pymcd) (23.0)\n",
      "Requirement already satisfied: cython>=0.28.0 in /home/aine_linux/.local/lib/python3.10/site-packages (from pysptk->pymcd) (3.0.8)\n",
      "Requirement already satisfied: llvmlite<0.41,>=0.40.0dev0 in /home/aine_linux/.local/lib/python3.10/site-packages (from numba>=0.45.1->librosa->pymcd) (0.40.1rc1)\n",
      "Requirement already satisfied: appdirs>=1.3.0 in /home/aine_linux/.local/lib/python3.10/site-packages (from pooch>=1.0->librosa->pymcd) (1.4.4)\n",
      "Requirement already satisfied: requests>=2.19.0 in /home/aine_linux/.local/lib/python3.10/site-packages (from pooch>=1.0->librosa->pymcd) (2.28.2)\n",
      "Requirement already satisfied: threadpoolctl>=2.0.0 in /home/aine_linux/.local/lib/python3.10/site-packages (from scikit-learn>=0.19.1->librosa->pymcd) (3.1.0)\n",
      "Requirement already satisfied: cffi>=1.0 in /home/aine_linux/.local/lib/python3.10/site-packages (from soundfile>=0.10.2->librosa->pymcd) (1.15.1)\n",
      "Requirement already satisfied: pycparser in /home/aine_linux/.local/lib/python3.10/site-packages (from cffi>=1.0->soundfile>=0.10.2->librosa->pymcd) (2.21)\n",
      "Requirement already satisfied: charset-normalizer<4,>=2 in /home/aine_linux/.local/lib/python3.10/site-packages (from requests>=2.19.0->pooch>=1.0->librosa->pymcd) (3.0.1)\n",
      "Requirement already satisfied: idna<4,>=2.5 in /home/aine_linux/.local/lib/python3.10/site-packages (from requests>=2.19.0->pooch>=1.0->librosa->pymcd) (3.4)\n",
      "Requirement already satisfied: urllib3<1.27,>=1.21.1 in /home/aine_linux/.local/lib/python3.10/site-packages (from requests>=2.19.0->pooch>=1.0->librosa->pymcd) (1.26.12)\n",
      "Requirement already satisfied: certifi>=2017.4.17 in /home/aine_linux/.local/lib/python3.10/site-packages (from requests>=2.19.0->pooch>=1.0->librosa->pymcd) (2022.12.7)\n",
      "Building wheels for collected packages: fastdtw\n",
      "  Building wheel for fastdtw (setup.py) ... \u001b[?25ldone\n",
      "\u001b[?25h  Created wheel for fastdtw: filename=fastdtw-0.3.4-cp310-cp310-linux_x86_64.whl size=512583 sha256=88afdaa071df3c961aaf8fe380984872856619eca7a7ce680c02e6409666c609\n",
      "  Stored in directory: /home/aine_linux/.cache/pip/wheels/73/c8/f7/c25448dab74c3acf4848bc25d513c736bb93910277e1528ef4\n",
      "Successfully built fastdtw\n",
      "Installing collected packages: fastdtw, pymcd\n",
      "Successfully installed fastdtw-0.3.4 pymcd-0.2.1\n"
     ]
    }
   ],
   "source": [
    "!pip install -U pymcd"
   ]
  },
  {
   "cell_type": "code",
   "execution_count": 96,
   "id": "4442f444",
   "metadata": {},
   "outputs": [],
   "source": [
    "from pymcd.mcd import Calculate_MCD\n",
    "\n",
    "# three different modes \"plain\", \"dtw\" and \"dtw_sl\" for the above three MCD metricscd che\n",
    "mcd_toolbox = Calculate_MCD(MCD_mode=\"plain\")\n",
    "#reference audio resampling is provided below\n",
    "\n",
    "# two inputs w.r.t. reference (ground-truth) and synthesized speeches, respectively\n",
    "mcd_value = mcd_toolbox.calculate_mcd(\"default_out.wav\", \"resampled_reference_audio_mono.wav\")"
   ]
  },
  {
   "cell_type": "code",
   "execution_count": 97,
   "id": "e4bf3550",
   "metadata": {},
   "outputs": [
    {
     "name": "stdout",
     "output_type": "stream",
     "text": [
      "22.43200442843981\n"
     ]
    }
   ],
   "source": [
    "print(mcd_value)"
   ]
  },
  {
   "cell_type": "markdown",
   "id": "f589c468",
   "metadata": {},
   "source": [
    "## F0 RMSE  "
   ]
  },
  {
   "cell_type": "code",
   "execution_count": 80,
   "id": "a3670851",
   "metadata": {},
   "outputs": [
    {
     "name": "stdout",
     "output_type": "stream",
     "text": [
      "Sample rate: 24000 Hz\n"
     ]
    }
   ],
   "source": [
    "import librosa\n",
    "\n",
    "audio_file = 'resampled_reference_audio.wav'\n",
    "y, sr = librosa.load(audio_file, sr=None)  # Set sr=None to get the original sample rate\n",
    "\n",
    "print(f\"Sample rate: {sr} Hz\")"
   ]
  },
  {
   "cell_type": "code",
   "execution_count": 67,
   "id": "2a625c52",
   "metadata": {},
   "outputs": [],
   "source": [
    "import librosa\n",
    "\n",
    "ref_audio, _ = sf.read('reference_audio.wav')\n",
    "# Resample from 44100 Hz to 24000 Hz\n",
    "ref_audio_resampled = librosa.resample(ref_audio, orig_sr=44100, target_sr=24000)\n"
   ]
  },
  {
   "cell_type": "code",
   "execution_count": 70,
   "id": "14267446",
   "metadata": {},
   "outputs": [],
   "source": [
    "from scipy.signal import resample\n",
    "import soundfile as sf\n",
    "\n",
    "# Calculate the number of samples at the new sampling rate\n",
    "num_samples = int(len(ref_audio) * float(24000) / 44100)\n",
    "\n",
    "# Resample the audio\n",
    "ref_audio_resampled = resample(ref_audio, num_samples)\n",
    "\n",
    "sf.write('resampled_reference_audio.wav', ref_audio_resampled, 24000)\n"
   ]
  },
  {
   "cell_type": "code",
   "execution_count": 83,
   "id": "7d30aca8",
   "metadata": {},
   "outputs": [],
   "source": [
    "# Check if the resampled audio is two-dimensional\n",
    "if ref_audio_resampled.ndim == 2:\n",
    "    # Convert stereo to mono by averaging the two channels\n",
    "    ref_audio_mono = np.mean(ref_audio_resampled, axis=1)\n",
    "else:\n",
    "    ref_audio_mono = ref_audio_resampled\n",
    "\n",
    "# Now you can save the mono audio\n",
    "sf.write('resampled_reference_audio_mono.wav', ref_audio_mono, 24000)\n",
    "\n",
    "# And use it with PyWorld\n",
    "ref_f0, _ = pw.dio(ref_audio_mono, fs=24000)\n"
   ]
  },
  {
   "cell_type": "code",
   "execution_count": 89,
   "id": "8fa07789",
   "metadata": {
    "scrolled": true
   },
   "outputs": [
    {
     "name": "stdout",
     "output_type": "stream",
     "text": [
      "F0 RMSE: 134.01 Hz\n"
     ]
    }
   ],
   "source": [
    "import numpy as np\n",
    "import pyworld as pw\n",
    "import soundfile as sf\n",
    "\n",
    "# Load and process your reference and synthesized audio files\n",
    "ref_audio, _ = sf.read('resampled_reference_audio_mono.wav')\n",
    "syn_audio, _ = sf.read('hifi_out.wav')\n",
    "\n",
    "# Determine the minimum length of both audio files\n",
    "min_length = min(len(ref_audio), len(syn_audio))\n",
    "\n",
    "# Trim both audio files to the same length (cut or padding?)\n",
    "ref_audio = ref_audio[:min_length]\n",
    "syn_audio = syn_audio[:min_length]\n",
    "\n",
    "# Extract F0 contours using the DIO method from PyWorld (adjust fs as needed)\n",
    "ref_f0, _ = pw.dio(ref_audio, fs=24000)\n",
    "syn_f0, _ = pw.dio(syn_audio, fs=24000)\n",
    "\n",
    "# Calculate the RMSE between the F0 contours\n",
    "f0_rmse = np.sqrt(np.mean((ref_f0 - syn_f0) ** 2))\n",
    "\n",
    "print(f\"F0 RMSE: {f0_rmse:.2f} Hz\")\n"
   ]
  },
  {
   "cell_type": "markdown",
   "id": "1d2c6e1b",
   "metadata": {},
   "source": [
    "## Data Visualization"
   ]
  },
  {
   "cell_type": "code",
   "execution_count": 104,
   "id": "6c40ab39",
   "metadata": {
    "scrolled": true
   },
   "outputs": [
    {
     "data": {
      "image/png": "[encoded data removed]",
      "text/plain": [
       "<Figure size 1200x600 with 2 Axes>"
      ]
     },
     "metadata": {},
     "output_type": "display_data"
    }
   ],
   "source": [
    "import matplotlib.pyplot as plt\n",
    "import numpy as np\n",
    "\n",
    "# French MCD scores for each vocoder\n",
    "vocoder_names = [\"Hifigan\", \"Multiband Melgan\", \"Wavegrad\"]\n",
    "french_mcd_scores = [23.12037395627331, 22.245349153418047, 23.549868964709674]\n",
    "\n",
    "# French F0 RMSE scores for each vocoder\n",
    "french_f0_rmse_scores = [134.01 ,140.55 ,161.40]\n",
    "\n",
    "num_vocoders = len(vocoder_names)\n",
    "fig, (ax1, ax2) = plt.subplots(1, 2, figsize=(12, 6))\n",
    "bar_width = 0.35\n",
    "\n",
    "ax1.bar(np.arange(num_vocoders), french_mcd_scores, bar_width, alpha=0.7, color='b')\n",
    "ax1.set_xlabel('Vocoders')\n",
    "ax1.set_ylabel('MCD Scores')\n",
    "ax1.set_title('French MCD Scores by Vocoder')\n",
    "ax1.set_xticks(np.arange(num_vocoders))\n",
    "ax1.set_xticklabels(vocoder_names)\n",
    "\n",
    "ax2.bar(np.arange(num_vocoders), french_f0_rmse_scores, bar_width, alpha=0.7, color='grey')\n",
    "ax2.set_xlabel('Vocoders')\n",
    "ax2.set_ylabel('F0 RMSE Scores')\n",
    "ax2.set_title('French F0 RMSE Scores by Vocoder')\n",
    "ax2.set_xticks(np.arange(num_vocoders))\n",
    "ax2.set_xticklabels(vocoder_names)\n",
    "\n",
    "plt.tight_layout()\n",
    "\n",
    "plt.show()\n"
   ]
  }
 ],
 "metadata": {
  "kernelspec": {
   "display_name": "Python 3 (ipykernel)",
   "language": "python",
   "name": "python3"
  },
  "language_info": {
   "codemirror_mode": {
    "name": "ipython",
    "version": 3
   },
   "file_extension": ".py",
   "mimetype": "text/x-python",
   "name": "python",
   "nbconvert_exporter": "python",
   "pygments_lexer": "ipython3",
   "version": "3.10.12"
  }
 },
 "nbformat": 4,
 "nbformat_minor": 5
}
